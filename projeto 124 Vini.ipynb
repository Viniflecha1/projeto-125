{
  "nbformat": 4,
  "nbformat_minor": 0,
  "metadata": {
    "colab": {
      "name": "PRO-124-Project-Code(pt).ipynb",
      "provenance": [],
      "collapsed_sections": []
    },
    "kernelspec": {
      "name": "python3",
      "display_name": "Python 3"
    },
    "language_info": {
      "name": "python"
    }
  },
  "cells": [
    {
      "cell_type": "markdown",
      "source": [
        "## Imprimir Elementos do Array"
      ],
      "metadata": {
        "id": "xZm_Pf8B1ehI"
      }
    },
    {
      "cell_type": "markdown",
      "source": [
        "**Problema**: Considere este array 1X1:\n",
        "\n",
        "```\n",
        "arr_1d = [53, 78, 90, 12, 15, 65, 44, 32, 29, 36]\n",
        "```\n",
        "\n",
        "1. Imprima o 3º e o 9º elemento do array.\n",
        "2. Altere o 3º e o 9º elemento para 100.\n"
      ],
      "metadata": {
        "id": "Sa43lAGbgtEp"
      }
    },
    {
      "cell_type": "code",
      "source": [
        "# escreva o código aqui\n",
        "\n",
        "import numpy as np\n",
        "\n",
        "arr_1d = np.array([53, 78, 90, 12, 15, 65, 44, 32, 29, 36])\n",
        "\n",
        "print(arr_1d[2])\n",
        "print(arr_1d[8])\n",
        "\n",
        "arr_1d[2]=100\n",
        "arr_1d[8]=100\n",
        "\n",
        "print(arr_1d)"
      ],
      "metadata": {
        "colab": {
          "base_uri": "https://localhost:8080/"
        },
        "id": "8Tu6DVd_gsyW",
        "outputId": "687fce15-88bc-47e2-da09-7a741b9f26d7"
      },
      "execution_count": null,
      "outputs": [
        {
          "output_type": "stream",
          "name": "stdout",
          "text": [
            "90\n",
            "29\n",
            "[ 53  78 100  12  15  65  44  32 100  36]\n"
          ]
        }
      ]
    },
    {
      "cell_type": "markdown",
      "source": [
        "## Atualize os Elementos Diagonais do Array Multidimensional"
      ],
      "metadata": {
        "id": "uRA1HzKH1tnN"
      }
    },
    {
      "cell_type": "markdown",
      "source": [
        "**Problema**: Considerando este array 3x3, altere todos os elementos diagonais da matriz para 0.\n",
        "\n",
        "```\n",
        "\n",
        "arr_2d = [[1,2,3],\n",
        "          [4,5,6],\n",
        "          [7,8,9]]\n",
        "```\n",
        "\n",
        "\n",
        "\n"
      ],
      "metadata": {
        "id": "3eSRw71ohlfT"
      }
    },
    {
      "cell_type": "code",
      "source": [
        "#Escreva o código aqui\n",
        "\n",
        "arr_2d=np.array([[1,2,3],\n",
        "        [4,5,6],\n",
        "        [7,8,9]])\n",
        "\n",
        "rows=3\n",
        "cols=3\n",
        "\n",
        "for i in range(rows):\n",
        "  for j in range(cols):\n",
        "    if i==j:\n",
        "      arr_2d[i][j]=0\n",
        "    else:\n",
        "      pass\n",
        "\n",
        "print(arr_2d)"
      ],
      "metadata": {
        "colab": {
          "base_uri": "https://localhost:8080/"
        },
        "id": "FR0UU8eohcL2",
        "outputId": "498f5a6b-19af-4de4-b5a4-e7dee06fbeaa"
      },
      "execution_count": null,
      "outputs": [
        {
          "output_type": "stream",
          "name": "stdout",
          "text": [
            "[[0 2 3]\n",
            " [4 0 6]\n",
            " [7 8 0]]\n"
          ]
        }
      ]
    },
    {
      "cell_type": "markdown",
      "source": [
        "## Números de Linhas e Colunas"
      ],
      "metadata": {
        "id": "bXr0ly2R2eWL"
      }
    },
    {
      "cell_type": "markdown",
      "source": [
        "**Problema**: Escreva um programa para encontrar o número de linhas e colunas presentes na matriz abaixo. \n",
        "Observação: Inicialize a matriz usando NumPy.\n",
        "\n",
        "```\n",
        " A= [[9,5,6,1,-2],\n",
        "    [3,-8,1,2,0],\n",
        "    [6,9,3,3,5]]\n",
        "```\n",
        "\n"
      ],
      "metadata": {
        "id": "Zd4zvVe6aDuH"
      }
    },
    {
      "cell_type": "code",
      "execution_count": null,
      "metadata": {
        "colab": {
          "base_uri": "https://localhost:8080/"
        },
        "id": "Pc1piH7OaABW",
        "outputId": "4bd46321-0c3d-4de6-bb4e-9c142e0085ba"
      },
      "outputs": [
        {
          "output_type": "stream",
          "name": "stdout",
          "text": [
            "número de linhas =  3\n",
            "número de colunas =  5\n"
          ]
        }
      ],
      "source": [
        "# escreva o código aqui\n",
        "import numpy as np\n",
        "\n",
        "A= np.array([[9,5,6,1,-2],\n",
        "            [3,-8,1,2,0],\n",
        "            [6,9,3,3,5]])\n",
        "\n",
        "#Comprimento de A = número de linhas\n",
        "cols=len(A[0])\n",
        "\n",
        "#Comprimento do primeiro array = número de colunas\n",
        "rows=len(A)\n",
        "print('número de linhas = ',rows)\n",
        "print('número de colunas = ',cols)\n"
      ]
    },
    {
      "cell_type": "markdown",
      "source": [
        "## Multiplicação Escalar"
      ],
      "metadata": {
        "id": "e-VQUDqo3Z89"
      }
    },
    {
      "cell_type": "markdown",
      "source": [
        "**Problema**: Imprima cada elemento da matriz a seguir. Inicialize a matriz usando NumPy.  <br />\n",
        "Além disso, multiplique a matriz por n = 150 e imprima a matriz após a multiplicação.\n",
        "   \n",
        "```\n",
        " B=[[-8,0,2,4],[5,2,-1,7]]\n",
        "```\n",
        "\n",
        "\n",
        "   "
      ],
      "metadata": {
        "id": "T49oCERtaugu"
      }
    },
    {
      "cell_type": "code",
      "source": [
        "# escreva o código aqui\n",
        "import numpy as np\n",
        "B=np.array([[-8,0,2,4],\n",
        "           [5,2,-1,7]])\n",
        "\n",
        "rows=len(B)\n",
        "cols=len(B[0])\n",
        "\n",
        "n=rows*cols         #número total de elementos\n",
        "\n",
        "C=np.zeros([rows,cols])\n",
        "\n",
        "#imprima todos os elementos da matriz\n",
        "count=1\n",
        "for i in range (rows):\n",
        "  for j in range (cols):\n",
        "      C[i][j]=150*B[i][j]\n",
        "      if count<=n:\n",
        "        print('O elemento ',count,' é ', B[i][j])\n",
        "        count+=1\n",
        "\n",
        "print('\\n', C)"
      ],
      "metadata": {
        "colab": {
          "base_uri": "https://localhost:8080/"
        },
        "id": "lqYsQ20ZgeXy",
        "outputId": "a1f518f1-900f-40d7-c112-9359d53d120c"
      },
      "execution_count": null,
      "outputs": [
        {
          "output_type": "stream",
          "name": "stdout",
          "text": [
            "O elemento  1  é  -8\n",
            "O elemento  2  é  0\n",
            "O elemento  3  é  2\n",
            "O elemento  4  é  4\n",
            "O elemento  5  é  5\n",
            "O elemento  6  é  2\n",
            "O elemento  7  é  -1\n",
            "O elemento  8  é  7\n",
            "\n",
            " [[-1200.     0.   300.   600.]\n",
            " [  750.   300.  -150.  1050.]]\n"
          ]
        }
      ]
    }
  ]
}